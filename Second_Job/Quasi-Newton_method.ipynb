{
 "cells": [
  {
   "cell_type": "code",
   "execution_count": 189,
   "metadata": {},
   "outputs": [],
   "source": [
    "import numpy as np\n",
    "import matplotlib.pyplot as plt\n",
    "from scipy.optimize import linesearch\n",
    "\n",
    "# 去除 DeprecationWarning等类似警告\n",
    "import warnings\n",
    "warnings.filterwarnings(\"ignore\",category=DeprecationWarning)\n",
    "# 支持中文\n",
    "plt.rcParams['font.sans-serif'] = ['SimHei']  # 用来正常显示中文标签\n",
    "plt.rcParams['axes.unicode_minus'] = False  # 用来正常显示负号"
   ]
  },
  {
   "cell_type": "code",
   "execution_count": 190,
   "metadata": {},
   "outputs": [],
   "source": [
    "# 表示 f(x)\n",
    "def f(x):\n",
    "    out = 100 * (x[0]**4) + (1 - x[0]) ** 2\n",
    "    out += 100 * (x[1] ** 2) - 200 * (x[0] ** 2) * x[1]\n",
    "    out += 100 * (x[2]**4) + (1 - x[2]) ** 2\n",
    "    out += 100 * (x[3] ** 2) - 200 * (x[2] ** 2) * x[3]\n",
    "\n",
    "    return np.array([out])\n",
    "\n",
    "# 返回f(x)的梯度\n",
    "def grad_f(x):\n",
    "    x1 = 400 * (x[0][0] ** 3) - 400 * x[0][0] * x[1][0] + 2 * x[0][0] - 2\n",
    "    x2 = 200 * x[1][0] - 200 * (x[0][0] ** 2)\n",
    "    x3 = 400 * (x[2][0] ** 3) - 400 * x[2][0] * x[3][0] + 2 * x[3][0] - 2\n",
    "    x4 = 200 * x[3][0] - 200 * (x[2][0] ** 2)\n",
    "\n",
    "    return np.array([[x1, x2, x3, x4]]).T\n",
    "\n",
    "# 调用line_search_wolfe2的梯度\n",
    "def grad_w(x):\n",
    "    return grad_f(x).T"
   ]
  },
  {
   "cell_type": "code",
   "execution_count": 191,
   "metadata": {},
   "outputs": [],
   "source": [
    "# wolfe准则\n",
    "def WOLFE(xk, dk):\n",
    "    rho = 0.1\n",
    "    sigma = 0.9\n",
    "    a = 0\n",
    "    b = np.inf\n",
    "    alpha = 1\n",
    "\n",
    "    while True:\n",
    "        if not ((f(xk) + rho * alpha * grad_f(xk).T @ dk)[0][0] >= f(xk + alpha * dk)[0][0]):\n",
    "            b = alpha\n",
    "            alpha = (a + alpha) / 2\n",
    "            continue\n",
    "        if not ((grad_f(xk + alpha * dk).T @ dk)[0][0] >= (sigma * grad_f(xk).T @ dk)[0][0]):\n",
    "            a = alpha\n",
    "            alpha = np.min([2 * alpha, (alpha + b) / 2])\n",
    "            continue\n",
    "        break\n",
    "\n",
    "    return alpha"
   ]
  },
  {
   "cell_type": "code",
   "execution_count": 192,
   "metadata": {},
   "outputs": [],
   "source": [
    "# 拟牛顿法\n",
    "def Quasi_Newton(flag):\n",
    "    # 初始化\n",
    "    xk = np.array([[1.2, 1, 1, 1]]).T\n",
    "    Hk = np.array([[0.1, 0, 0, 0], [0, 0.1, 0, 0], [0, 0, 0.1, 0], [0, 0, 0, 0.1]])\n",
    "    out_f = []\n",
    "\n",
    "    fk = f(xk)\n",
    "    # out_f.append(fk[0][0])\n",
    "\n",
    "    i = 0\n",
    "    while f(xk) > 1e-8:\n",
    "        i += 1\n",
    "        # 计算搜索方向\n",
    "        dk = - Hk @ grad_f(xk)\n",
    "\n",
    "        # 更新迭代点\n",
    "        # alpha = WOLFE(xk, dk)\n",
    "\n",
    "        # 调用scipy.optimize实现强wolfe准则\n",
    "        alpha = linesearch.line_search_wolfe2(f, grad_w, xk, dk)[0]\n",
    "        \n",
    "        bf_xk = np.array(xk)\n",
    "        xk += alpha * dk\n",
    "\n",
    "        # 更新矩阵\n",
    "        sk = xk - bf_xk\n",
    "        yk = grad_f(xk) - grad_f(bf_xk)\n",
    "        if flag == 1:\n",
    "            Hk = Hk + ((sk - Hk @ yk) @ (sk - Hk @ yk).T) / ((sk - Hk @ yk).T @ yk)\n",
    "        elif flag == 2:\n",
    "            Hk = Hk + (sk @ sk.T) / (sk.T @ yk) - (Hk @ yk @ yk.T @ Hk) / (yk.T @ Hk @ yk)\n",
    "        elif flag == 3:\n",
    "            Hk = Hk + (1 + (yk.T @ Hk @ yk)/ (sk.T @ yk)) * ((sk @ sk.T) / (sk.T @ yk)) - ((sk @ yk.T @ Hk\n",
    "            + Hk @ yk @ sk.T) / (sk.T @ yk))\n",
    "\n",
    "\n",
    "        out_f.append(f(xk)[0][0])\n",
    "\n",
    "    return out_f"
   ]
  },
  {
   "cell_type": "code",
   "execution_count": 193,
   "metadata": {},
   "outputs": [],
   "source": [
    "# SR1\n",
    "def SR1():\n",
    "    return Quasi_Newton(1)\n",
    "\n",
    "# DFP\n",
    "def DFP():\n",
    "    return Quasi_Newton(2)\n",
    "\n",
    "# BFGS\n",
    "def BFGS():\n",
    "    return Quasi_Newton(3)"
   ]
  },
  {
   "cell_type": "code",
   "execution_count": 194,
   "metadata": {},
   "outputs": [
    {
     "data": {
      "image/png": "[encoded data removed]",
      "text/plain": [
       "<Figure size 432x288 with 1 Axes>"
      ]
     },
     "metadata": {},
     "output_type": "display_data"
    }
   ],
   "source": [
    "# 绘制图像\n",
    "A = SR1()\n",
    "B = DFP()\n",
    "C = BFGS()\n",
    "\n",
    "plt.plot(range(len(A)-3), A[3:], 'r', label = \"SR1\")\n",
    "plt.plot(range(len(B)-3), B[3:], 'b', label = \"DFP\")\n",
    "plt.plot(range(len(C)-3), C[3:], 'y', label = \"BFGS\")\n",
    "plt.title('拟牛顿法 SR1 DFP BFGS')\n",
    "plt.xlabel('Iterations')\n",
    "plt.ylabel('f(x)')\n",
    "plt.legend()#显示图例\n",
    "plt.show()#显示图片"
   ]
  }
 ],
 "metadata": {
  "kernelspec": {
   "display_name": "Python 3",
   "language": "python",
   "name": "python3"
  },
  "language_info": {
   "codemirror_mode": {
    "name": "ipython",
    "version": 3
   },
   "file_extension": ".py",
   "mimetype": "text/x-python",
   "name": "python",
   "nbconvert_exporter": "python",
   "pygments_lexer": "ipython3",
   "version": "3.10.0"
  },
  "orig_nbformat": 4
 },
 "nbformat": 4,
 "nbformat_minor": 2
}
